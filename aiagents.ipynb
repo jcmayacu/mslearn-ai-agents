{
 "cells": [
  {
   "cell_type": "code",
   "execution_count": null,
   "id": "abe3033c",
   "metadata": {},
   "outputs": [],
   "source": [
    "import os\n",
    "from azure.identity import DefaultAzureCredential\n",
    "from azure.ai.projects import AIProjectClient\n",
    "\n",
    "your_project_endpoint = os.getenv(\"PROJECT_ENDPOINT_AIFP\")\n",
    "your_model = os.getenv(\"MODEL_DEPLOYMENT_NAME\")\n",
    "\n",
    "project = AIProjectClient(\n",
    "  endpoint=\"your_project_endpoint\",\n",
    "  credential=DefaultAzureCredential())"
   ]
  },
  {
   "cell_type": "markdown",
   "id": "8c06240e",
   "metadata": {},
   "source": [
    "# Foundry Project"
   ]
  },
  {
   "cell_type": "code",
   "execution_count": null,
   "id": "26f474df",
   "metadata": {},
   "outputs": [],
   "source": [
    "import os\n",
    "from azure.ai.projects import AIProjectClient\n",
    "from azure.identity import DefaultAzureCredential\n",
    "\n",
    "your_project_endpoint = os.getenv(\"PROJECT_ENDPOINT_AIFP\")\n",
    "your_model = os.getenv(\"MODEL_DEPLOYMENT_NAME\")\n",
    "\n",
    "project = AIProjectClient(\n",
    "    endpoint=\"your_project_endpoint\",\n",
    "    credential=DefaultAzureCredential(),\n",
    ")\n",
    "\n",
    "models = project.inference.get_azure_openai_client(api_version=\"2024-07-18\")\n",
    "response = models.chat.completions.create(\n",
    "    model=\"your_model\",\n",
    "    messages=[\n",
    "        {\"role\": \"system\", \"content\": \"You are a helpful writing assistant\"},\n",
    "        {\"role\": \"user\", \"content\": \"Write me a poem about flowers\"},\n",
    "    ],\n",
    ")\n",
    "\n",
    "print(response.choices[0].message.content)"
   ]
  },
  {
   "cell_type": "markdown",
   "id": "3f4fe17b",
   "metadata": {},
   "source": [
    "# Hub Project"
   ]
  },
  {
   "cell_type": "code",
   "execution_count": null,
   "id": "bb56249b",
   "metadata": {},
   "outputs": [],
   "source": [
    "import os\n",
    "from azure.ai.projects import AIProjectClient\n",
    "from azure.identity import DefaultAzureCredential\n",
    "\n",
    "project_connection_string = os.getenv(\"PROJECT_ENDPOINT_HUBP\")\n",
    "\n",
    "project = AIProjectClient.from_connection_string(\n",
    "    conn_str=project_connection_string, \n",
    "    credential=DefaultAzureCredential()\n",
    ")\n",
    "\n",
    "chat = project.inference.get_chat_completions_client()\n",
    "response = chat.complete(\n",
    "    model=\"gpt-4o-mini\",\n",
    "    messages=[\n",
    "        {\n",
    "            \"role\": \"system\",\n",
    "            \"content\": \"You are an AI assistant that speaks like a techno punk rocker from 2350. Be cool but not too cool. Ya dig?\",\n",
    "        },\n",
    "        {\"role\": \"user\", \"content\": \"Hey, can you help me with my taxes? I'm a freelancer.\"},\n",
    "    ],\n",
    ")\n",
    "\n",
    "print(response.choices[0].message.content)"
   ]
  },
  {
   "cell_type": "code",
   "execution_count": null,
   "id": "6ed7fd1e",
   "metadata": {},
   "outputs": [],
   "source": [
    "from azure.ai.inference.prompts import PromptTemplate\n",
    "\n",
    "\n",
    "def get_chat_response(messages, context):\n",
    "    # create a prompt template from an inline string (using mustache syntax)\n",
    "    prompt_template = PromptTemplate.from_string(\n",
    "        prompt_template=\"\"\"\n",
    "        system:\n",
    "        You are an AI assistant that speaks like a techno punk rocker from 2350. Be cool but not too cool. Ya dig? Refer to the user by their first name, try to work their last name into a pun.\n",
    "\n",
    "        The user's first name is {{first_name}} and their last name is {{last_name}}.\n",
    "        \"\"\"\n",
    "    )\n",
    "\n",
    "    # generate system message from the template, passing in the context as variables\n",
    "    system_message = prompt_template.create_messages(data=context)\n",
    "\n",
    "    # add the prompt messages to the user messages\n",
    "    return chat.complete(\n",
    "        model=\"gpt-4o-mini\",\n",
    "        messages=system_message + messages,\n",
    "        temperature=1,\n",
    "        frequency_penalty=0.5,\n",
    "        presence_penalty=0.5,\n",
    "    )"
   ]
  }
 ],
 "metadata": {
  "kernelspec": {
   "display_name": ".venv",
   "language": "python",
   "name": "python3"
  },
  "language_info": {
   "codemirror_mode": {
    "name": "ipython",
    "version": 3
   },
   "file_extension": ".py",
   "mimetype": "text/x-python",
   "name": "python",
   "nbconvert_exporter": "python",
   "pygments_lexer": "ipython3",
   "version": "3.11.9"
  }
 },
 "nbformat": 4,
 "nbformat_minor": 5
}
